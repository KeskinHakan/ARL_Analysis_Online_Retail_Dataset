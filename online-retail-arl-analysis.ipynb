{
 "cells": [
  {
   "cell_type": "markdown",
   "id": "52ca461a",
   "metadata": {
    "papermill": {
     "duration": 0.00775,
     "end_time": "2023-03-18T21:12:16.355652",
     "exception": false,
     "start_time": "2023-03-18T21:12:16.347902",
     "status": "completed"
    },
    "tags": []
   },
   "source": [
    "<h1 id=\"basics\" style=\"font-family:verdana;\"> \n",
    "    <center> Association Rules Learning for Online Retail Dataset\n",
    "    </center>\n",
    "</h1>\n",
    "<div style=\"width:100%;text-align: center;\"> <img align=middle src=\"https://i0.wp.com/analyticsarora.com/wp-content/uploads/2022/06/association-rule-learning-visual-example-ml-interview.png?w=800&ssl=1\" alt=\"ARL\" style=\"height:500px;margin-top:2rem;\"> </div>\n",
    "\n"
   ]
  },
  {
   "cell_type": "markdown",
   "id": "6cef6e4b",
   "metadata": {
    "papermill": {
     "duration": 0.005789,
     "end_time": "2023-03-18T21:12:16.367562",
     "exception": false,
     "start_time": "2023-03-18T21:12:16.361773",
     "status": "completed"
    },
    "tags": []
   },
   "source": [
    "This Online Retail II data set contains all the transactions occurring for a UK-based and registered, non-store online retail between 01/12/2009 and 09/12/2011.The company mainly sells unique all-occasion gift-ware. Many customers of the company are wholesalers.\n"
   ]
  },
  {
   "cell_type": "markdown",
   "id": "9270d86a",
   "metadata": {
    "papermill": {
     "duration": 0.005487,
     "end_time": "2023-03-18T21:12:16.378946",
     "exception": false,
     "start_time": "2023-03-18T21:12:16.373459",
     "status": "completed"
    },
    "tags": []
   },
   "source": [
    "## Main topics of the study can be seen below:\n",
    "\n",
    "* [Aim of the study](#section-one)\n",
    "* [Understanding the data](#section-two)\n",
    "* [Preparation of data](#section-three)\n",
    "* [Invoice - Product Matrix](#section-four)\n",
    "* [Preparing Association Rule Learning Data Structures](#section-five)\n",
    "* [Product Recommendation](#section-six)\n",
    "* [Conclusion](#section-seven)\n"
   ]
  },
  {
   "cell_type": "markdown",
   "id": "cad9a878",
   "metadata": {
    "papermill": {
     "duration": 0.005432,
     "end_time": "2023-03-18T21:12:16.390286",
     "exception": false,
     "start_time": "2023-03-18T21:12:16.384854",
     "status": "completed"
    },
    "tags": []
   },
   "source": [
    "<a id=\"section-one\"></a>\n",
    "## 1. Aim of the Study\n",
    "\n",
    "The main purpose of the study to find out the relationship between the products that get by customers. When X product orders, also Y product orders too by customers according to Online Retail data. This data is including two different time between 2009 - 2010 and 2010 - 2011. In this part lets explain the ARL as much as basicly.\n",
    "\n",
    "Association Rule Learning is a machine learning technique used to identify relationships and patterns in large datasets. It is a process of discovering frequent patterns and associations between items or attributes in a dataset.\n",
    "\n",
    "In simple terms, Association Rule Learning aims to identify patterns that indicate the co-occurrence of items in a given dataset. For example, it can help identify that customers who buy bread are likely to buy butter as well, or that people who watch a certain TV show are more likely to watch a specific movie.\n",
    "\n",
    "The process of Association Rule Learning involves two main steps:\n",
    "\n",
    "- Finding frequent itemsets:\n",
    "The first step is to identify sets of items that appear frequently together in the dataset. This is achieved by applying a support threshold which indicates the minimum number of times an itemset must occur in the dataset to be considered frequent.\n",
    "\n",
    "- Generating association rules:\n",
    "The second step involves generating association rules from the frequent itemsets identified in step one. Association rules are conditional statements that show the likelihood of an item or a set of items occurring together given the occurrence of another item or set of items. These rules are evaluated based on their confidence, which indicates the likelihood of the rule being true.\n",
    "\n",
    "Association Rule Learning has several applications in various fields, including market basket analysis, recommender systems, and web mining. It can help businesses understand customer behavior and preferences, make recommendations to customers, and improve marketing strategies.\n",
    "\n",
    "<div style=\"width:100%;text-align: center;\"> <img align=middle src=\"https://sp-ao.shortpixel.ai/client/to_auto,q_glossy,ret_img,w_1536/https://pianalytix.com/wp-content/uploads/2020/11/Association-Rule-1536x640.jpg\" alt=\"ARL\" style=\"height:300px;margin-top:1rem;\"> </div>"
   ]
  },
  {
   "cell_type": "markdown",
   "id": "f99e2ae6",
   "metadata": {
    "papermill": {
     "duration": 0.005444,
     "end_time": "2023-03-18T21:12:16.401317",
     "exception": false,
     "start_time": "2023-03-18T21:12:16.395873",
     "status": "completed"
    },
    "tags": []
   },
   "source": [
    "<a id=\"section-two\"></a>\n",
    "## 2. Understanding the Data\n",
    "\n",
    "First of all we should import the libraries that will use during the analysis and rating parts."
   ]
  },
  {
   "cell_type": "code",
   "execution_count": 1,
   "id": "c8e67881",
   "metadata": {
    "_cell_guid": "b1076dfc-b9ad-4769-8c92-a6c4dae69d19",
    "_uuid": "8f2839f25d086af736a60e9eeb907d3b93b6e0e5",
    "execution": {
     "iopub.execute_input": "2023-03-18T21:12:16.414776Z",
     "iopub.status.busy": "2023-03-18T21:12:16.414348Z",
     "iopub.status.idle": "2023-03-18T21:12:16.441390Z",
     "shell.execute_reply": "2023-03-18T21:12:16.440316Z"
    },
    "papermill": {
     "duration": 0.037362,
     "end_time": "2023-03-18T21:12:16.444310",
     "exception": false,
     "start_time": "2023-03-18T21:12:16.406948",
     "status": "completed"
    },
    "tags": []
   },
   "outputs": [],
   "source": [
    "# Lets import libraries\n",
    "\n",
    "import pandas as pd\n",
    "from mlxtend.frequent_patterns import apriori, association_rules\n",
    "import warnings\n",
    "warnings.filterwarnings(\"ignore\")\n",
    "\n",
    "pd.set_option(\"display.width\", 500)\n",
    "pd.set_option(\"display.max_columns\", None)\n",
    "pd.set_option(\"display.float_format\", lambda x: '%.5f' % x)"
   ]
  },
  {
   "cell_type": "code",
   "execution_count": 2,
   "id": "eac7e0a5",
   "metadata": {
    "execution": {
     "iopub.execute_input": "2023-03-18T21:12:16.458380Z",
     "iopub.status.busy": "2023-03-18T21:12:16.457948Z",
     "iopub.status.idle": "2023-03-18T21:12:18.697685Z",
     "shell.execute_reply": "2023-03-18T21:12:18.696119Z"
    },
    "papermill": {
     "duration": 2.250673,
     "end_time": "2023-03-18T21:12:18.701204",
     "exception": false,
     "start_time": "2023-03-18T21:12:16.450531",
     "status": "completed"
    },
    "tags": []
   },
   "outputs": [],
   "source": [
    "# Lets import the dataset\n",
    "\n",
    "df_ = pd.read_csv(\"/kaggle/input/online-retail-ii-uci/online_retail_II.csv\")\n",
    "df = df_.copy()"
   ]
  },
  {
   "cell_type": "code",
   "execution_count": 3,
   "id": "edefd056",
   "metadata": {
    "execution": {
     "iopub.execute_input": "2023-03-18T21:12:18.717354Z",
     "iopub.status.busy": "2023-03-18T21:12:18.716755Z",
     "iopub.status.idle": "2023-03-18T21:12:19.332638Z",
     "shell.execute_reply": "2023-03-18T21:12:19.330590Z"
    },
    "papermill": {
     "duration": 0.628331,
     "end_time": "2023-03-18T21:12:19.335989",
     "exception": false,
     "start_time": "2023-03-18T21:12:18.707658",
     "status": "completed"
    },
    "tags": []
   },
   "outputs": [
    {
     "name": "stdout",
     "output_type": "stream",
     "text": [
      "########## First 10 Data #############\n",
      "  Invoice StockCode                          Description  Quantity          InvoiceDate   Price  Customer ID         Country\n",
      "0  489434     85048  15CM CHRISTMAS GLASS BALL 20 LIGHTS        12  2009-12-01 07:45:00 6.95000  13085.00000  United Kingdom\n",
      "1  489434    79323P                   PINK CHERRY LIGHTS        12  2009-12-01 07:45:00 6.75000  13085.00000  United Kingdom\n",
      "2  489434    79323W                  WHITE CHERRY LIGHTS        12  2009-12-01 07:45:00 6.75000  13085.00000  United Kingdom\n",
      "3  489434     22041         RECORD FRAME 7\" SINGLE SIZE         48  2009-12-01 07:45:00 2.10000  13085.00000  United Kingdom\n",
      "4  489434     21232       STRAWBERRY CERAMIC TRINKET BOX        24  2009-12-01 07:45:00 1.25000  13085.00000  United Kingdom\n",
      "5  489434     22064           PINK DOUGHNUT TRINKET POT         24  2009-12-01 07:45:00 1.65000  13085.00000  United Kingdom\n",
      "6  489434     21871                  SAVE THE PLANET MUG        24  2009-12-01 07:45:00 1.25000  13085.00000  United Kingdom\n",
      "7  489434     21523   FANCY FONT HOME SWEET HOME DOORMAT        10  2009-12-01 07:45:00 5.95000  13085.00000  United Kingdom\n",
      "8  489435     22350                            CAT BOWL         12  2009-12-01 07:46:00 2.55000  13085.00000  United Kingdom\n",
      "9  489435     22349       DOG BOWL , CHASING BALL DESIGN        12  2009-12-01 07:46:00 3.75000  13085.00000  United Kingdom\n",
      "########## Info #############\n",
      "<class 'pandas.core.frame.DataFrame'>\n",
      "RangeIndex: 1067371 entries, 0 to 1067370\n",
      "Data columns (total 8 columns):\n",
      " #   Column       Non-Null Count    Dtype  \n",
      "---  ------       --------------    -----  \n",
      " 0   Invoice      1067371 non-null  object \n",
      " 1   StockCode    1067371 non-null  object \n",
      " 2   Description  1062989 non-null  object \n",
      " 3   Quantity     1067371 non-null  int64  \n",
      " 4   InvoiceDate  1067371 non-null  object \n",
      " 5   Price        1067371 non-null  float64\n",
      " 6   Customer ID  824364 non-null   float64\n",
      " 7   Country      1067371 non-null  object \n",
      "dtypes: float64(2), int64(1), object(5)\n",
      "memory usage: 65.1+ MB\n",
      "None\n",
      "########## Statistical Data #############\n",
      "                    count        mean        std          min           0%          5%         50%         95%         99%        100%         max\n",
      "Quantity    1067371.00000     9.93890  172.70579 -80995.00000 -80995.00000     1.00000     3.00000    30.00000   100.00000 80995.00000 80995.00000\n",
      "Price       1067371.00000     4.64939  123.55306 -53594.36000 -53594.36000     0.42000     2.10000     9.95000    18.00000 38970.00000 38970.00000\n",
      "Customer ID  824364.00000 15324.63850 1697.46445  12346.00000  12346.00000 12681.00000 15255.00000 17911.00000 18207.00000 18287.00000 18287.00000\n",
      "########## Null Data #############\n",
      "Invoice             0\n",
      "StockCode           0\n",
      "Description      4382\n",
      "Quantity            0\n",
      "InvoiceDate         0\n",
      "Price               0\n",
      "Customer ID    243007\n",
      "Country             0\n",
      "dtype: int64\n",
      "########## Variable Types #############\n",
      "Invoice         object\n",
      "StockCode       object\n",
      "Description     object\n",
      "Quantity         int64\n",
      "InvoiceDate     object\n",
      "Price          float64\n",
      "Customer ID    float64\n",
      "Country         object\n",
      "dtype: object\n"
     ]
    }
   ],
   "source": [
    "# To understand the \"check_df\" functione can be used to decide the what should we do about the data.\n",
    "\n",
    "def check_df(dataframe, head=10):\n",
    "    print(\"########## First 10 Data #############\")\n",
    "    print(dataframe.head(head))\n",
    "    print(\"########## Info #############\")\n",
    "    print(dataframe.info())\n",
    "    print(\"########## Statistical Data #############\")\n",
    "    print(dataframe.describe([0, 0.05, 0.50, 0.95, 0.99, 1]).T)\n",
    "    print(\"########## Null Data #############\")\n",
    "    print(dataframe.isnull().sum())\n",
    "    print(\"########## Variable Types #############\")\n",
    "    print(dataframe.dtypes)\n",
    "    \n",
    "check_df(df)"
   ]
  },
  {
   "cell_type": "markdown",
   "id": "39df9c25",
   "metadata": {
    "papermill": {
     "duration": 0.006094,
     "end_time": "2023-03-18T21:12:19.348689",
     "exception": false,
     "start_time": "2023-03-18T21:12:19.342595",
     "status": "completed"
    },
    "tags": []
   },
   "source": [
    "Before the start the analysis, according to dataset summary, dataset has 8 variables. Lets check them;\n",
    "\n",
    "1. Invoice No: Special number of Invoice for the each Customer ID\n",
    "2. StockCode: Special number for the each kind of products.\n",
    "3. Description: Summary of the products that sell by the company.\n",
    "4. Quantity: Sell amounts of the product for each order.\n",
    "5. InvoiceDate: Date of the Invoice\n",
    "6. Unit Price: Unit price for the each quantity of the product.\n",
    "7. CustomerID: Special ID for the customers.\n",
    "8. Country: Customers Country\n",
    "\n",
    "According to null value of data, the data has 135080 missing value for the Customer ID. These missing values should be eleminated the data in the next chapters.\n",
    "\n",
    "Also, according to description part for the numerical variables, we can see the \"-\" UnitPrice or Quantity. It is meaning some kind of orders cancelled by the customers. We should also elimanite these rows to find out the meaningful results during the analysis process."
   ]
  },
  {
   "cell_type": "markdown",
   "id": "c0566db0",
   "metadata": {
    "papermill": {
     "duration": 0.0061,
     "end_time": "2023-03-18T21:12:19.361420",
     "exception": false,
     "start_time": "2023-03-18T21:12:19.355320",
     "status": "completed"
    },
    "tags": []
   },
   "source": [
    "<a id=\"section-three\"></a>\n",
    "## 3. Preparation of the Data\n",
    "\n",
    "In this stage, If any null values are in the dataset, they will drop it from the data. Also, outliers will be rearrange with the handmade functions from the dataset."
   ]
  },
  {
   "cell_type": "code",
   "execution_count": 4,
   "id": "972e8fa2",
   "metadata": {
    "execution": {
     "iopub.execute_input": "2023-03-18T21:12:19.377528Z",
     "iopub.status.busy": "2023-03-18T21:12:19.377053Z",
     "iopub.status.idle": "2023-03-18T21:12:19.384575Z",
     "shell.execute_reply": "2023-03-18T21:12:19.382599Z"
    },
    "papermill": {
     "duration": 0.017679,
     "end_time": "2023-03-18T21:12:19.386814",
     "exception": false,
     "start_time": "2023-03-18T21:12:19.369135",
     "status": "completed"
    },
    "tags": []
   },
   "outputs": [],
   "source": [
    "# Before the analysis we have to consider the \"Outliers\" in the data. Especially, outliers should be considered in \"Quantity\" and \"Invoice\" columns.\n",
    "\n",
    "def outlier_thresholds(dataframe, variable):\n",
    "    # Function prepared to find out outliers.\n",
    "    # Normally, Q1 and Q3 uses as 0.25 - 0.75 but in this project we consider as 0.01 - 0.99\n",
    "    quartile1 = dataframe[variable].quantile(0.01)\n",
    "    quartile3 = dataframe[variable].quantile(0.99)\n",
    "    interquantile_range = quartile3 - quartile1\n",
    "    up_limit = quartile3 + 1.5 * interquantile_range\n",
    "    low_limit = quartile1 - 1.5 * interquantile_range\n",
    "    return low_limit, up_limit"
   ]
  },
  {
   "cell_type": "code",
   "execution_count": 5,
   "id": "a9193640",
   "metadata": {
    "execution": {
     "iopub.execute_input": "2023-03-18T21:12:19.402177Z",
     "iopub.status.busy": "2023-03-18T21:12:19.401701Z",
     "iopub.status.idle": "2023-03-18T21:12:19.408524Z",
     "shell.execute_reply": "2023-03-18T21:12:19.406873Z"
    },
    "papermill": {
     "duration": 0.017254,
     "end_time": "2023-03-18T21:12:19.411367",
     "exception": false,
     "start_time": "2023-03-18T21:12:19.394113",
     "status": "completed"
    },
    "tags": []
   },
   "outputs": [],
   "source": [
    "# These outliers will be replaced according to up and low limits that calculate it according to formulas.\n",
    "\n",
    "def replace_with_thresholds(dataframe, variable):\n",
    "    # Outliers majorization function\n",
    "    low_limit, up_limit = outlier_thresholds(dataframe, variable)\n",
    "    dataframe.loc[(dataframe[variable] < low_limit), variable] = low_limit\n",
    "    dataframe.loc[(dataframe[variable] > up_limit), variable] = up_limit"
   ]
  },
  {
   "cell_type": "code",
   "execution_count": 6,
   "id": "22396634",
   "metadata": {
    "execution": {
     "iopub.execute_input": "2023-03-18T21:12:19.427397Z",
     "iopub.status.busy": "2023-03-18T21:12:19.426931Z",
     "iopub.status.idle": "2023-03-18T21:12:19.435701Z",
     "shell.execute_reply": "2023-03-18T21:12:19.433537Z"
    },
    "papermill": {
     "duration": 0.020318,
     "end_time": "2023-03-18T21:12:19.438887",
     "exception": false,
     "start_time": "2023-03-18T21:12:19.418569",
     "status": "completed"
    },
    "tags": []
   },
   "outputs": [],
   "source": [
    "# This function uses to eliminate the negative and meaningful datas from the dataset.\n",
    "\n",
    "def retail_data_prep(dataframe):\n",
    "    dataframe.dropna(inplace = True)\n",
    "    dataframe = dataframe[~dataframe[\"Invoice\"].str.contains(\"C\", na=False)]\n",
    "    dataframe = dataframe[dataframe[\"Quantity\"] > 0]\n",
    "    dataframe = dataframe[dataframe[\"Price\"] > 0]\n",
    "    replace_with_thresholds(dataframe, \"Quantity\")\n",
    "    replace_with_thresholds(dataframe, \"Price\")\n",
    "    return dataframe"
   ]
  },
  {
   "cell_type": "code",
   "execution_count": 7,
   "id": "2aacf8bd",
   "metadata": {
    "execution": {
     "iopub.execute_input": "2023-03-18T21:12:19.454386Z",
     "iopub.status.busy": "2023-03-18T21:12:19.453102Z",
     "iopub.status.idle": "2023-03-18T21:12:20.307649Z",
     "shell.execute_reply": "2023-03-18T21:12:20.306136Z"
    },
    "papermill": {
     "duration": 0.864914,
     "end_time": "2023-03-18T21:12:20.310269",
     "exception": false,
     "start_time": "2023-03-18T21:12:19.445355",
     "status": "completed"
    },
    "tags": []
   },
   "outputs": [],
   "source": [
    "# Lets finalized the dataset before the start ARL.\n",
    "\n",
    "df = retail_data_prep(df)"
   ]
  },
  {
   "cell_type": "markdown",
   "id": "a21244ca",
   "metadata": {
    "papermill": {
     "duration": 0.006349,
     "end_time": "2023-03-18T21:12:20.324619",
     "exception": false,
     "start_time": "2023-03-18T21:12:20.318270",
     "status": "completed"
    },
    "tags": []
   },
   "source": [
    "<a id=\"section-four\"></a>\n",
    "## 4. Invoice - Product Matrix\n",
    "\n",
    "In this part, Invoice - Product matrix will be created with \"apriori\" function.\n",
    "\n",
    "<div style=\"width:100%;text-align: center;\"> <img align=middle src=\"https://miro.medium.com/max/497/1*9J50LPtmb0fcgR5FhnDljQ.png\" alt=\"ARL\" style=\"height:300px;margin-top:1rem;\"> </div>"
   ]
  },
  {
   "cell_type": "code",
   "execution_count": 8,
   "id": "9b7e283a",
   "metadata": {
    "execution": {
     "iopub.execute_input": "2023-03-18T21:12:20.339905Z",
     "iopub.status.busy": "2023-03-18T21:12:20.339255Z",
     "iopub.status.idle": "2023-03-18T21:12:21.372258Z",
     "shell.execute_reply": "2023-03-18T21:12:21.370726Z"
    },
    "papermill": {
     "duration": 1.043505,
     "end_time": "2023-03-18T21:12:21.374605",
     "exception": false,
     "start_time": "2023-03-18T21:12:20.331100",
     "status": "completed"
    },
    "tags": []
   },
   "outputs": [
    {
     "data": {
      "text/html": [
       "<div>\n",
       "<style scoped>\n",
       "    .dataframe tbody tr th:only-of-type {\n",
       "        vertical-align: middle;\n",
       "    }\n",
       "\n",
       "    .dataframe tbody tr th {\n",
       "        vertical-align: top;\n",
       "    }\n",
       "\n",
       "    .dataframe thead tr th {\n",
       "        text-align: left;\n",
       "    }\n",
       "\n",
       "    .dataframe thead tr:last-of-type th {\n",
       "        text-align: right;\n",
       "    }\n",
       "</style>\n",
       "<table border=\"1\" class=\"dataframe\">\n",
       "  <thead>\n",
       "    <tr>\n",
       "      <th></th>\n",
       "      <th colspan=\"5\" halign=\"left\">Quantity</th>\n",
       "    </tr>\n",
       "    <tr>\n",
       "      <th>StockCode</th>\n",
       "      <th>10002</th>\n",
       "      <th>10120</th>\n",
       "      <th>10123C</th>\n",
       "      <th>10123G</th>\n",
       "      <th>10125</th>\n",
       "    </tr>\n",
       "    <tr>\n",
       "      <th>Invoice</th>\n",
       "      <th></th>\n",
       "      <th></th>\n",
       "      <th></th>\n",
       "      <th></th>\n",
       "      <th></th>\n",
       "    </tr>\n",
       "  </thead>\n",
       "  <tbody>\n",
       "    <tr>\n",
       "      <th>489439</th>\n",
       "      <td>0</td>\n",
       "      <td>0</td>\n",
       "      <td>0</td>\n",
       "      <td>0</td>\n",
       "      <td>0</td>\n",
       "    </tr>\n",
       "    <tr>\n",
       "      <th>489557</th>\n",
       "      <td>0</td>\n",
       "      <td>0</td>\n",
       "      <td>0</td>\n",
       "      <td>0</td>\n",
       "      <td>0</td>\n",
       "    </tr>\n",
       "    <tr>\n",
       "      <th>489883</th>\n",
       "      <td>0</td>\n",
       "      <td>0</td>\n",
       "      <td>0</td>\n",
       "      <td>0</td>\n",
       "      <td>0</td>\n",
       "    </tr>\n",
       "    <tr>\n",
       "      <th>490139</th>\n",
       "      <td>0</td>\n",
       "      <td>0</td>\n",
       "      <td>0</td>\n",
       "      <td>0</td>\n",
       "      <td>0</td>\n",
       "    </tr>\n",
       "    <tr>\n",
       "      <th>490152</th>\n",
       "      <td>0</td>\n",
       "      <td>0</td>\n",
       "      <td>0</td>\n",
       "      <td>0</td>\n",
       "      <td>0</td>\n",
       "    </tr>\n",
       "  </tbody>\n",
       "</table>\n",
       "</div>"
      ],
      "text/plain": [
       "          Quantity                          \n",
       "StockCode    10002 10120 10123C 10123G 10125\n",
       "Invoice                                     \n",
       "489439           0     0      0      0     0\n",
       "489557           0     0      0      0     0\n",
       "489883           0     0      0      0     0\n",
       "490139           0     0      0      0     0\n",
       "490152           0     0      0      0     0"
      ]
     },
     "execution_count": 8,
     "metadata": {},
     "output_type": "execute_result"
    }
   ],
   "source": [
    "# We will work on the France' products in this study. Anyone can choice another country to make this calculation.\n",
    "\n",
    "\n",
    "df_fr = df[df[\"Country\"] == \"France\"]\n",
    "\n",
    "df_fr.groupby([\"Invoice\", \"Description\"]).agg({\"Quantity\": \"sum\"}).head(20)\n",
    "\n",
    "df_fr.groupby([\"Invoice\", \"Description\"]).agg({\"Quantity\": \"sum\"}).unstack().iloc[0:5,0:5] # Önemli Fonksiyon!\n",
    "\n",
    "df_fr.groupby([\"Invoice\", \"Description\"]).agg({\"Quantity\": \"sum\"}).unstack().fillna(0).iloc[0:5,0:5]\n",
    "\n",
    "df_fr.groupby([\"Invoice\", \"StockCode\"]).\\\n",
    "    agg({\"Quantity\": \"sum\"}).\\\n",
    "    unstack().fillna(0).applymap(lambda x: 1 if x > 0 else 0).iloc[0:5, 0:5]"
   ]
  },
  {
   "cell_type": "code",
   "execution_count": 9,
   "id": "e1dbd4ba",
   "metadata": {
    "execution": {
     "iopub.execute_input": "2023-03-18T21:12:21.389718Z",
     "iopub.status.busy": "2023-03-18T21:12:21.389261Z",
     "iopub.status.idle": "2023-03-18T21:12:22.176655Z",
     "shell.execute_reply": "2023-03-18T21:12:22.174839Z"
    },
    "papermill": {
     "duration": 0.799045,
     "end_time": "2023-03-18T21:12:22.180440",
     "exception": false,
     "start_time": "2023-03-18T21:12:21.381395",
     "status": "completed"
    },
    "tags": []
   },
   "outputs": [],
   "source": [
    "# To product matrix, this function can be used.\n",
    "\n",
    "def create_invoice_product_df(dataframe, id=False):\n",
    "    if id:\n",
    "        return dataframe.groupby(['Invoice', \"StockCode\"])['Quantity'].sum().unstack().fillna(0). \\\n",
    "            applymap(lambda x: 1 if x > 0 else 0)\n",
    "    else:\n",
    "        return dataframe.groupby(['Invoice', 'Description'])['Quantity'].sum().unstack().fillna(0). \\\n",
    "            applymap(lambda x: 1 if x > 0 else 0)\n",
    "\n",
    "fr_inv_pro_df = create_invoice_product_df(df_fr, id = True)"
   ]
  },
  {
   "cell_type": "code",
   "execution_count": 10,
   "id": "e9479cc9",
   "metadata": {
    "execution": {
     "iopub.execute_input": "2023-03-18T21:12:22.194933Z",
     "iopub.status.busy": "2023-03-18T21:12:22.194564Z",
     "iopub.status.idle": "2023-03-18T21:12:22.201475Z",
     "shell.execute_reply": "2023-03-18T21:12:22.200000Z"
    },
    "papermill": {
     "duration": 0.017067,
     "end_time": "2023-03-18T21:12:22.203949",
     "exception": false,
     "start_time": "2023-03-18T21:12:22.186882",
     "status": "completed"
    },
    "tags": []
   },
   "outputs": [],
   "source": [
    "# According to functions, we will continue with the \"StockCode\". However, if user want to check the description of the ID, this function can be used.\n",
    "\n",
    "def check_id(dataframe, stock_code):\n",
    "    product_name = dataframe[dataframe[\"StockCode\"] == stock_code][[\"Description\"]].values[0].tolist()\n",
    "    print(product_name)\n"
   ]
  },
  {
   "cell_type": "markdown",
   "id": "42636107",
   "metadata": {
    "papermill": {
     "duration": 0.006513,
     "end_time": "2023-03-18T21:12:22.217212",
     "exception": false,
     "start_time": "2023-03-18T21:12:22.210699",
     "status": "completed"
    },
    "tags": []
   },
   "source": [
    "<a id=\"section-five\"></a>\n",
    "## 5. Preparing Association Rule Learning Data Structures\n"
   ]
  },
  {
   "cell_type": "code",
   "execution_count": 11,
   "id": "ed25614a",
   "metadata": {
    "execution": {
     "iopub.execute_input": "2023-03-18T21:12:22.232039Z",
     "iopub.status.busy": "2023-03-18T21:12:22.231667Z",
     "iopub.status.idle": "2023-03-18T21:12:27.872318Z",
     "shell.execute_reply": "2023-03-18T21:12:27.870218Z"
    },
    "papermill": {
     "duration": 5.651681,
     "end_time": "2023-03-18T21:12:27.875553",
     "exception": false,
     "start_time": "2023-03-18T21:12:22.223872",
     "status": "completed"
    },
    "tags": []
   },
   "outputs": [],
   "source": [
    "# To obtain the relationship between the StockCode and Invoice, \"apriori\" function can be used.\n",
    "\n",
    "frequent_itemsets = apriori(fr_inv_pro_df,\n",
    "                            min_support=0.01,\n",
    "                            use_colnames=True)\n",
    "\n",
    "frequent_itemsets.sort_values(\"support\", ascending=False)\n",
    "\n",
    "rules = association_rules(frequent_itemsets,\n",
    "                          metric=\"support\",\n",
    "                          min_threshold=0.01)\n"
   ]
  },
  {
   "cell_type": "code",
   "execution_count": 12,
   "id": "f83576a1",
   "metadata": {
    "execution": {
     "iopub.execute_input": "2023-03-18T21:12:27.890649Z",
     "iopub.status.busy": "2023-03-18T21:12:27.890257Z",
     "iopub.status.idle": "2023-03-18T21:12:27.905749Z",
     "shell.execute_reply": "2023-03-18T21:12:27.903880Z"
    },
    "papermill": {
     "duration": 0.026421,
     "end_time": "2023-03-18T21:12:27.908702",
     "exception": false,
     "start_time": "2023-03-18T21:12:27.882281",
     "status": "completed"
    },
    "tags": []
   },
   "outputs": [
    {
     "name": "stdout",
     "output_type": "stream",
     "text": [
      "['LUNCHBOX WITH CUTLERY RETROSPOT ']\n"
     ]
    }
   ],
   "source": [
    "rules[(rules[\"support\"]>0.05) & (rules[\"confidence\"]>0.1) & (rules[\"lift\"]>5)]\n",
    "\n",
    "check_id(df_fr, \"22352\")"
   ]
  },
  {
   "cell_type": "code",
   "execution_count": 13,
   "id": "d3d692a5",
   "metadata": {
    "execution": {
     "iopub.execute_input": "2023-03-18T21:12:27.924037Z",
     "iopub.status.busy": "2023-03-18T21:12:27.923673Z",
     "iopub.status.idle": "2023-03-18T21:12:27.949307Z",
     "shell.execute_reply": "2023-03-18T21:12:27.947870Z"
    },
    "papermill": {
     "duration": 0.03628,
     "end_time": "2023-03-18T21:12:27.951816",
     "exception": false,
     "start_time": "2023-03-18T21:12:27.915536",
     "status": "completed"
    },
    "tags": []
   },
   "outputs": [
    {
     "data": {
      "text/html": [
       "<div>\n",
       "<style scoped>\n",
       "    .dataframe tbody tr th:only-of-type {\n",
       "        vertical-align: middle;\n",
       "    }\n",
       "\n",
       "    .dataframe tbody tr th {\n",
       "        vertical-align: top;\n",
       "    }\n",
       "\n",
       "    .dataframe thead th {\n",
       "        text-align: right;\n",
       "    }\n",
       "</style>\n",
       "<table border=\"1\" class=\"dataframe\">\n",
       "  <thead>\n",
       "    <tr style=\"text-align: right;\">\n",
       "      <th></th>\n",
       "      <th>antecedents</th>\n",
       "      <th>consequents</th>\n",
       "      <th>antecedent support</th>\n",
       "      <th>consequent support</th>\n",
       "      <th>support</th>\n",
       "      <th>confidence</th>\n",
       "      <th>lift</th>\n",
       "      <th>leverage</th>\n",
       "      <th>conviction</th>\n",
       "    </tr>\n",
       "  </thead>\n",
       "  <tbody>\n",
       "    <tr>\n",
       "      <th>47446</th>\n",
       "      <td>(21080, POST, 21086)</td>\n",
       "      <td>(21094)</td>\n",
       "      <td>0.07818</td>\n",
       "      <td>0.12704</td>\n",
       "      <td>0.07492</td>\n",
       "      <td>0.95833</td>\n",
       "      <td>7.54380</td>\n",
       "      <td>0.06499</td>\n",
       "      <td>20.95114</td>\n",
       "    </tr>\n",
       "    <tr>\n",
       "      <th>14759</th>\n",
       "      <td>(21080, 21094)</td>\n",
       "      <td>(21086)</td>\n",
       "      <td>0.09609</td>\n",
       "      <td>0.13844</td>\n",
       "      <td>0.09121</td>\n",
       "      <td>0.94915</td>\n",
       "      <td>6.85623</td>\n",
       "      <td>0.07790</td>\n",
       "      <td>16.94408</td>\n",
       "    </tr>\n",
       "    <tr>\n",
       "      <th>14758</th>\n",
       "      <td>(21080, 21086)</td>\n",
       "      <td>(21094)</td>\n",
       "      <td>0.09609</td>\n",
       "      <td>0.12704</td>\n",
       "      <td>0.09121</td>\n",
       "      <td>0.94915</td>\n",
       "      <td>7.47153</td>\n",
       "      <td>0.07900</td>\n",
       "      <td>17.16830</td>\n",
       "    </tr>\n",
       "    <tr>\n",
       "      <th>47448</th>\n",
       "      <td>(21080, POST, 21094)</td>\n",
       "      <td>(21086)</td>\n",
       "      <td>0.07980</td>\n",
       "      <td>0.13844</td>\n",
       "      <td>0.07492</td>\n",
       "      <td>0.93878</td>\n",
       "      <td>6.78127</td>\n",
       "      <td>0.06387</td>\n",
       "      <td>14.07220</td>\n",
       "    </tr>\n",
       "    <tr>\n",
       "      <th>1629</th>\n",
       "      <td>(21094)</td>\n",
       "      <td>(21086)</td>\n",
       "      <td>0.12704</td>\n",
       "      <td>0.13844</td>\n",
       "      <td>0.11564</td>\n",
       "      <td>0.91026</td>\n",
       "      <td>6.57526</td>\n",
       "      <td>0.09805</td>\n",
       "      <td>9.60028</td>\n",
       "    </tr>\n",
       "    <tr>\n",
       "      <th>...</th>\n",
       "      <td>...</td>\n",
       "      <td>...</td>\n",
       "      <td>...</td>\n",
       "      <td>...</td>\n",
       "      <td>...</td>\n",
       "      <td>...</td>\n",
       "      <td>...</td>\n",
       "      <td>...</td>\n",
       "      <td>...</td>\n",
       "    </tr>\n",
       "    <tr>\n",
       "      <th>5104</th>\n",
       "      <td>(22629)</td>\n",
       "      <td>(22631)</td>\n",
       "      <td>0.13029</td>\n",
       "      <td>0.08795</td>\n",
       "      <td>0.06026</td>\n",
       "      <td>0.46250</td>\n",
       "      <td>5.25880</td>\n",
       "      <td>0.04880</td>\n",
       "      <td>1.69684</td>\n",
       "    </tr>\n",
       "    <tr>\n",
       "      <th>639</th>\n",
       "      <td>(20724)</td>\n",
       "      <td>(22356)</td>\n",
       "      <td>0.13681</td>\n",
       "      <td>0.08469</td>\n",
       "      <td>0.05863</td>\n",
       "      <td>0.42857</td>\n",
       "      <td>5.06044</td>\n",
       "      <td>0.04705</td>\n",
       "      <td>1.60179</td>\n",
       "    </tr>\n",
       "    <tr>\n",
       "      <th>30433</th>\n",
       "      <td>(22629)</td>\n",
       "      <td>(22630, POST)</td>\n",
       "      <td>0.13029</td>\n",
       "      <td>0.07329</td>\n",
       "      <td>0.05537</td>\n",
       "      <td>0.42500</td>\n",
       "      <td>5.79889</td>\n",
       "      <td>0.04583</td>\n",
       "      <td>1.61167</td>\n",
       "    </tr>\n",
       "    <tr>\n",
       "      <th>30481</th>\n",
       "      <td>(22629)</td>\n",
       "      <td>(POST, 22631)</td>\n",
       "      <td>0.13029</td>\n",
       "      <td>0.07166</td>\n",
       "      <td>0.05049</td>\n",
       "      <td>0.38750</td>\n",
       "      <td>5.40739</td>\n",
       "      <td>0.04115</td>\n",
       "      <td>1.51566</td>\n",
       "    </tr>\n",
       "    <tr>\n",
       "      <th>64719</th>\n",
       "      <td>(22554)</td>\n",
       "      <td>(22556, POST, 22551)</td>\n",
       "      <td>0.15798</td>\n",
       "      <td>0.06840</td>\n",
       "      <td>0.05537</td>\n",
       "      <td>0.35052</td>\n",
       "      <td>5.12420</td>\n",
       "      <td>0.04457</td>\n",
       "      <td>1.43436</td>\n",
       "    </tr>\n",
       "  </tbody>\n",
       "</table>\n",
       "<p>66 rows × 9 columns</p>\n",
       "</div>"
      ],
      "text/plain": [
       "                antecedents           consequents  antecedent support  consequent support  support  confidence    lift  leverage  conviction\n",
       "47446  (21080, POST, 21086)               (21094)             0.07818             0.12704  0.07492     0.95833 7.54380   0.06499    20.95114\n",
       "14759        (21080, 21094)               (21086)             0.09609             0.13844  0.09121     0.94915 6.85623   0.07790    16.94408\n",
       "14758        (21080, 21086)               (21094)             0.09609             0.12704  0.09121     0.94915 7.47153   0.07900    17.16830\n",
       "47448  (21080, POST, 21094)               (21086)             0.07980             0.13844  0.07492     0.93878 6.78127   0.06387    14.07220\n",
       "1629                (21094)               (21086)             0.12704             0.13844  0.11564     0.91026 6.57526   0.09805     9.60028\n",
       "...                     ...                   ...                 ...                 ...      ...         ...     ...       ...         ...\n",
       "5104                (22629)               (22631)             0.13029             0.08795  0.06026     0.46250 5.25880   0.04880     1.69684\n",
       "639                 (20724)               (22356)             0.13681             0.08469  0.05863     0.42857 5.06044   0.04705     1.60179\n",
       "30433               (22629)         (22630, POST)             0.13029             0.07329  0.05537     0.42500 5.79889   0.04583     1.61167\n",
       "30481               (22629)         (POST, 22631)             0.13029             0.07166  0.05049     0.38750 5.40739   0.04115     1.51566\n",
       "64719               (22554)  (22556, POST, 22551)             0.15798             0.06840  0.05537     0.35052 5.12420   0.04457     1.43436\n",
       "\n",
       "[66 rows x 9 columns]"
      ]
     },
     "execution_count": 13,
     "metadata": {},
     "output_type": "execute_result"
    }
   ],
   "source": [
    "rules[(rules[\"support\"]>0.05) & (rules[\"confidence\"]>0.1) & (rules[\"lift\"]>5)]. \\\n",
    "sort_values(\"confidence\", ascending=False)\n"
   ]
  },
  {
   "cell_type": "markdown",
   "id": "2387e823",
   "metadata": {
    "papermill": {
     "duration": 0.00655,
     "end_time": "2023-03-18T21:12:27.965594",
     "exception": false,
     "start_time": "2023-03-18T21:12:27.959044",
     "status": "completed"
    },
    "tags": []
   },
   "source": [
    "<a id=\"section-six\"></a>\n",
    "## 6. Product Recommendation\n",
    "\n",
    "<div style=\"width:100%;text-align: center;\"> <img align=middle src=\"https://camo.githubusercontent.com/65663a743ab156da04afcb9783a4571af3968929d46c893edb78680e54c243e3/68747470733a2f2f692e68697a6c69726573696d2e636f6d2f68677272366b332e6a7067\" alt=\"ARL\" style=\"height:300px;margin-top:1rem;\"> </div>"
   ]
  },
  {
   "cell_type": "code",
   "execution_count": 14,
   "id": "544dceac",
   "metadata": {
    "execution": {
     "iopub.execute_input": "2023-03-18T21:12:27.981278Z",
     "iopub.status.busy": "2023-03-18T21:12:27.980817Z",
     "iopub.status.idle": "2023-03-18T21:12:28.068371Z",
     "shell.execute_reply": "2023-03-18T21:12:28.066414Z"
    },
    "papermill": {
     "duration": 0.098927,
     "end_time": "2023-03-18T21:12:28.071397",
     "exception": false,
     "start_time": "2023-03-18T21:12:27.972470",
     "status": "completed"
    },
    "tags": []
   },
   "outputs": [
    {
     "name": "stdout",
     "output_type": "stream",
     "text": [
      "['MINI PAINT SET VINTAGE ']\n"
     ]
    }
   ],
   "source": [
    "# Lets see specific product_id's relationship with the other products.\n",
    "\n",
    "product_id = \"22492\"\n",
    "check_id(df, product_id)\n",
    "\n",
    "sorted_rules = rules.sort_values(\"lift\", ascending=False)\n",
    "\n",
    "recommendation_list = []\n"
   ]
  },
  {
   "cell_type": "code",
   "execution_count": 15,
   "id": "dae0c949",
   "metadata": {
    "execution": {
     "iopub.execute_input": "2023-03-18T21:12:28.088920Z",
     "iopub.status.busy": "2023-03-18T21:12:28.088512Z",
     "iopub.status.idle": "2023-03-18T21:12:28.096273Z",
     "shell.execute_reply": "2023-03-18T21:12:28.094528Z"
    },
    "papermill": {
     "duration": 0.020341,
     "end_time": "2023-03-18T21:12:28.099211",
     "exception": false,
     "start_time": "2023-03-18T21:12:28.078870",
     "status": "completed"
    },
    "tags": []
   },
   "outputs": [],
   "source": [
    "def arl_recommender(rules_df, product_id, rec_count=1):\n",
    "    sorted_rules = rules_df.sort_values(\"lift\", ascending=False)\n",
    "    recommendation_list = []\n",
    "    for i, product in enumerate(sorted_rules[\"antecedents\"]):\n",
    "        for j in list(product):\n",
    "            if j == product_id:\n",
    "                recommendation_list.append(list(sorted_rules.iloc[i][\"consequents\"])[0])\n",
    "\n",
    "    return recommendation_list[0:rec_count]"
   ]
  },
  {
   "cell_type": "code",
   "execution_count": 16,
   "id": "911a808b",
   "metadata": {
    "execution": {
     "iopub.execute_input": "2023-03-18T21:12:28.115046Z",
     "iopub.status.busy": "2023-03-18T21:12:28.114559Z",
     "iopub.status.idle": "2023-03-18T21:12:29.342828Z",
     "shell.execute_reply": "2023-03-18T21:12:29.341487Z"
    },
    "papermill": {
     "duration": 1.239072,
     "end_time": "2023-03-18T21:12:29.345469",
     "exception": false,
     "start_time": "2023-03-18T21:12:28.106397",
     "status": "completed"
    },
    "tags": []
   },
   "outputs": [
    {
     "name": "stdout",
     "output_type": "stream",
     "text": [
      "['SPACEBOY LUNCH BOX ']\n",
      "['SET/20 RED SPOTTY PAPER NAPKINS ']\n",
      "['SET/20 RED SPOTTY PAPER NAPKINS ']\n"
     ]
    },
    {
     "data": {
      "text/plain": [
       "['22629', '21080', '21080']"
      ]
     },
     "execution_count": 16,
     "metadata": {},
     "output_type": "execute_result"
    }
   ],
   "source": [
    "arl_recommender(rules, \"22492\", 1)\n",
    "arl_recommender(rules, \"22492\", 2)\n",
    "arl_recommender(rules, \"22492\", 3)\n",
    "\n",
    "for each in arl_recommender(rules, \"22492\", 3):\n",
    "    check_id(df, each)\n",
    "    \n",
    "arl_recommender(rules, \"22492\", 3)"
   ]
  },
  {
   "cell_type": "markdown",
   "id": "c3cff719",
   "metadata": {
    "papermill": {
     "duration": 0.007993,
     "end_time": "2023-03-18T21:12:29.360647",
     "exception": false,
     "start_time": "2023-03-18T21:12:29.352654",
     "status": "completed"
    },
    "tags": []
   },
   "source": [
    "<a id=\"section-seven\"></a>\n",
    "## 7. Conclusion\n",
    "\n",
    "In conclusion, Association Rule Learning is a powerful technique for identifying relationships and patterns in large datasets. The Online Retail Dataset is a real-world example of a dataset that can benefit from Association Rule Learning techniques. Using this dataset, we can identify frequent itemsets and generate association rules that reveal patterns in customer behavior.\n",
    "\n",
    "By applying Association Rule Learning to the Online Retail Dataset, we can gain insights into which products are frequently purchased together, which can help businesses identify cross-selling opportunities and improve their marketing strategies. For example, we might discover that customers who purchase a specific product are likely to also purchase another related product, and use this information to suggest complementary products to customers during their shopping experience.\n",
    "\n",
    "Overall, Association Rule Learning is a valuable tool for gaining insights into complex datasets such as the Online Retail Dataset, and can help businesses make data-driven decisions to improve customer satisfaction and increase sales.\n"
   ]
  },
  {
   "cell_type": "markdown",
   "id": "100e2d7d",
   "metadata": {
    "papermill": {
     "duration": 0.007013,
     "end_time": "2023-03-18T21:12:29.375130",
     "exception": false,
     "start_time": "2023-03-18T21:12:29.368117",
     "status": "completed"
    },
    "tags": []
   },
   "source": [
    "## Keep in Touch!\n",
    "\n",
    "You can follow my the other social media adresses to see this kind of works!\n",
    "\n",
    "1. [GitHub](https://github.com/KeskinHakan)\n",
    "2. [LinkedIn](https://www.linkedin.com/in/hakan-keskin-/)\n",
    "3. [Medium](https://medium.com/@hakan-keskin)\n"
   ]
  }
 ],
 "metadata": {
  "kernelspec": {
   "display_name": "Python 3",
   "language": "python",
   "name": "python3"
  },
  "language_info": {
   "codemirror_mode": {
    "name": "ipython",
    "version": 3
   },
   "file_extension": ".py",
   "mimetype": "text/x-python",
   "name": "python",
   "nbconvert_exporter": "python",
   "pygments_lexer": "ipython3",
   "version": "3.7.12"
  },
  "papermill": {
   "default_parameters": {},
   "duration": 23.915237,
   "end_time": "2023-03-18T21:12:30.203841",
   "environment_variables": {},
   "exception": null,
   "input_path": "__notebook__.ipynb",
   "output_path": "__notebook__.ipynb",
   "parameters": {},
   "start_time": "2023-03-18T21:12:06.288604",
   "version": "2.4.0"
  }
 },
 "nbformat": 4,
 "nbformat_minor": 5
}
